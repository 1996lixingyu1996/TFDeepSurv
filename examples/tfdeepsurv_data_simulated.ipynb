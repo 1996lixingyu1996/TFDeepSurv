{
 "cells": [
  {
   "cell_type": "markdown",
   "metadata": {},
   "source": [
    "# tfdeepsurv for simulated data\n",
    "\n",
    "## Introduction\n",
    "\n",
    "Let's use `tfdeepsurv` package to build a neural network for predicting hazard ratio. This notebook \n",
    "will show you how to build and train a neural network.\n",
    "\n",
    "## Preparation\n",
    "\n",
    "For all things going well, you would be better to get acquainted with **Survival Analysis**. Otherwise, I suggest you read the [reference](https://lifelines.readthedocs.io/en/latest/Survival%20Analysis%20intro.html).\n",
    "\n",
    "## Package installation\n",
    "\n",
    "Please follow the instructions on [README](../README.md) to install `tfdeepsurv` package.\n",
    "\n",
    "## Get it started\n",
    "\n",
    "### Obtain datasets "
   ]
  },
  {
   "cell_type": "code",
   "execution_count": 1,
   "metadata": {},
   "outputs": [
    {
     "data": {
      "text/html": [
       "<div>\n",
       "<style scoped>\n",
       "    .dataframe tbody tr th:only-of-type {\n",
       "        vertical-align: middle;\n",
       "    }\n",
       "\n",
       "    .dataframe tbody tr th {\n",
       "        vertical-align: top;\n",
       "    }\n",
       "\n",
       "    .dataframe thead th {\n",
       "        text-align: right;\n",
       "    }\n",
       "</style>\n",
       "<table border=\"1\" class=\"dataframe\">\n",
       "  <thead>\n",
       "    <tr style=\"text-align: right;\">\n",
       "      <th></th>\n",
       "      <th>x_0</th>\n",
       "      <th>x_1</th>\n",
       "      <th>x_2</th>\n",
       "      <th>x_3</th>\n",
       "      <th>x_4</th>\n",
       "      <th>x_5</th>\n",
       "      <th>x_6</th>\n",
       "      <th>x_7</th>\n",
       "      <th>x_8</th>\n",
       "      <th>x_9</th>\n",
       "      <th>e</th>\n",
       "      <th>t</th>\n",
       "    </tr>\n",
       "  </thead>\n",
       "  <tbody>\n",
       "    <tr>\n",
       "      <th>0</th>\n",
       "      <td>-0.165956</td>\n",
       "      <td>0.440649</td>\n",
       "      <td>-0.999771</td>\n",
       "      <td>-0.395335</td>\n",
       "      <td>-0.706488</td>\n",
       "      <td>-0.815323</td>\n",
       "      <td>-0.627480</td>\n",
       "      <td>-0.308879</td>\n",
       "      <td>-0.206465</td>\n",
       "      <td>0.077633</td>\n",
       "      <td>1</td>\n",
       "      <td>0.933961</td>\n",
       "    </tr>\n",
       "    <tr>\n",
       "      <th>1</th>\n",
       "      <td>-0.161611</td>\n",
       "      <td>0.370439</td>\n",
       "      <td>-0.591096</td>\n",
       "      <td>0.756235</td>\n",
       "      <td>-0.945225</td>\n",
       "      <td>0.340935</td>\n",
       "      <td>-0.165390</td>\n",
       "      <td>0.117380</td>\n",
       "      <td>-0.719226</td>\n",
       "      <td>-0.603797</td>\n",
       "      <td>1</td>\n",
       "      <td>0.242949</td>\n",
       "    </tr>\n",
       "    <tr>\n",
       "      <th>2</th>\n",
       "      <td>0.601489</td>\n",
       "      <td>0.936523</td>\n",
       "      <td>-0.373152</td>\n",
       "      <td>0.384645</td>\n",
       "      <td>0.752778</td>\n",
       "      <td>0.789213</td>\n",
       "      <td>-0.829912</td>\n",
       "      <td>-0.921890</td>\n",
       "      <td>-0.660339</td>\n",
       "      <td>0.756285</td>\n",
       "      <td>0</td>\n",
       "      <td>15.000000</td>\n",
       "    </tr>\n",
       "    <tr>\n",
       "      <th>3</th>\n",
       "      <td>-0.803306</td>\n",
       "      <td>-0.157785</td>\n",
       "      <td>0.915779</td>\n",
       "      <td>0.066331</td>\n",
       "      <td>0.383754</td>\n",
       "      <td>-0.368969</td>\n",
       "      <td>0.373002</td>\n",
       "      <td>0.669251</td>\n",
       "      <td>-0.963423</td>\n",
       "      <td>0.500289</td>\n",
       "      <td>0</td>\n",
       "      <td>15.000000</td>\n",
       "    </tr>\n",
       "    <tr>\n",
       "      <th>4</th>\n",
       "      <td>0.977722</td>\n",
       "      <td>0.496331</td>\n",
       "      <td>-0.439112</td>\n",
       "      <td>0.578559</td>\n",
       "      <td>-0.793548</td>\n",
       "      <td>-0.104213</td>\n",
       "      <td>0.817191</td>\n",
       "      <td>-0.412772</td>\n",
       "      <td>-0.424449</td>\n",
       "      <td>-0.739943</td>\n",
       "      <td>0</td>\n",
       "      <td>15.000000</td>\n",
       "    </tr>\n",
       "  </tbody>\n",
       "</table>\n",
       "</div>"
      ],
      "text/plain": [
       "        x_0       x_1       x_2       x_3       x_4       x_5       x_6  \\\n",
       "0 -0.165956  0.440649 -0.999771 -0.395335 -0.706488 -0.815323 -0.627480   \n",
       "1 -0.161611  0.370439 -0.591096  0.756235 -0.945225  0.340935 -0.165390   \n",
       "2  0.601489  0.936523 -0.373152  0.384645  0.752778  0.789213 -0.829912   \n",
       "3 -0.803306 -0.157785  0.915779  0.066331  0.383754 -0.368969  0.373002   \n",
       "4  0.977722  0.496331 -0.439112  0.578559 -0.793548 -0.104213  0.817191   \n",
       "\n",
       "        x_7       x_8       x_9  e          t  \n",
       "0 -0.308879 -0.206465  0.077633  1   0.933961  \n",
       "1  0.117380 -0.719226 -0.603797  1   0.242949  \n",
       "2 -0.921890 -0.660339  0.756285  0  15.000000  \n",
       "3  0.669251 -0.963423  0.500289  0  15.000000  \n",
       "4 -0.412772 -0.424449 -0.739943  0  15.000000  "
      ]
     },
     "execution_count": 1,
     "metadata": {},
     "output_type": "execute_result"
    }
   ],
   "source": [
    "from tfdeepsurv.datasets import load_simulated_data\n",
    "\n",
    "### generate simulated data (Pandas.DataFrame)\n",
    "# data configuration: \n",
    "#     hazard ratio = 2000\n",
    "#     number of features = 10\n",
    "#     number of valid features = 2\n",
    "\n",
    "# No. of training data = 2000\n",
    "train_data = load_simulated_data(2000, N=2000, num_var=2, num_features=10, seed=1)\n",
    "# No. of training data = 800\n",
    "test_data = load_simulated_data(2000, N=800, num_var=2, num_features=10, seed=1)\n",
    "\n",
    "train_data.head()"
   ]
  },
  {
   "cell_type": "markdown",
   "metadata": {},
   "source": [
    "### Dataset statistics"
   ]
  },
  {
   "cell_type": "code",
   "execution_count": 2,
   "metadata": {},
   "outputs": [
    {
     "name": "stdout",
     "output_type": "stream",
     "text": [
      "--------------- Survival Data Statistics ---------------\n",
      "# Rows: 2000\n",
      "# Columns: 10 + e + t\n",
      "# Events Ratio: 0.74%\n",
      "# Min Time: 0.0001404392\n",
      "# Max Time: 15.0\n",
      "\n"
     ]
    },
    {
     "data": {
      "image/png": "[encoded data removed]",
      "text/plain": [
       "<Figure size 432x288 with 2 Axes>"
      ]
     },
     "metadata": {
      "needs_background": "light"
     },
     "output_type": "display_data"
    }
   ],
   "source": [
    "from tfdeepsurv.datasets import survival_stats\n",
    "\n",
    "survival_stats(train_data, t_col=\"t\", e_col=\"e\", plot=True)"
   ]
  },
  {
   "cell_type": "code",
   "execution_count": 3,
   "metadata": {},
   "outputs": [
    {
     "name": "stdout",
     "output_type": "stream",
     "text": [
      "--------------- Survival Data Statistics ---------------\n",
      "# Rows: 800\n",
      "# Columns: 10 + e + t\n",
      "# Events Ratio: 0.74%\n",
      "# Min Time: 0.00054798834\n",
      "# Max Time: 15.0\n",
      "\n"
     ]
    },
    {
     "data": {
      "image/png": "[encoded data removed]",
      "text/plain": [
       "<Figure size 432x288 with 2 Axes>"
      ]
     },
     "metadata": {
      "needs_background": "light"
     },
     "output_type": "display_data"
    }
   ],
   "source": [
    "survival_stats(test_data, t_col=\"t\", e_col=\"e\", plot=True)"
   ]
  },
  {
   "cell_type": "markdown",
   "metadata": {},
   "source": [
    "### Survival data transfrom\n",
    "\n",
    "The transformed survival data contains an new label. Negtive values are considered as right censored, \n",
    "and positive values are considered as event occurrence.\n",
    "\n",
    "**NOTE**: In version 2.0, survival data must be transformed via `tfdeepsurv.datasets.survival_df`."
   ]
  },
  {
   "cell_type": "code",
   "execution_count": 4,
   "metadata": {},
   "outputs": [
    {
     "data": {
      "text/html": [
       "<div>\n",
       "<style scoped>\n",
       "    .dataframe tbody tr th:only-of-type {\n",
       "        vertical-align: middle;\n",
       "    }\n",
       "\n",
       "    .dataframe tbody tr th {\n",
       "        vertical-align: top;\n",
       "    }\n",
       "\n",
       "    .dataframe thead th {\n",
       "        text-align: right;\n",
       "    }\n",
       "</style>\n",
       "<table border=\"1\" class=\"dataframe\">\n",
       "  <thead>\n",
       "    <tr style=\"text-align: right;\">\n",
       "      <th></th>\n",
       "      <th>x_0</th>\n",
       "      <th>x_1</th>\n",
       "      <th>x_2</th>\n",
       "      <th>x_3</th>\n",
       "      <th>x_4</th>\n",
       "      <th>x_5</th>\n",
       "      <th>x_6</th>\n",
       "      <th>x_7</th>\n",
       "      <th>x_8</th>\n",
       "      <th>x_9</th>\n",
       "      <th>Y</th>\n",
       "    </tr>\n",
       "  </thead>\n",
       "  <tbody>\n",
       "    <tr>\n",
       "      <th>0</th>\n",
       "      <td>-0.165956</td>\n",
       "      <td>0.440649</td>\n",
       "      <td>-0.999771</td>\n",
       "      <td>-0.395335</td>\n",
       "      <td>-0.706488</td>\n",
       "      <td>-0.815323</td>\n",
       "      <td>-0.627480</td>\n",
       "      <td>-0.308879</td>\n",
       "      <td>-0.206465</td>\n",
       "      <td>0.077633</td>\n",
       "      <td>0.933961</td>\n",
       "    </tr>\n",
       "    <tr>\n",
       "      <th>1</th>\n",
       "      <td>-0.161611</td>\n",
       "      <td>0.370439</td>\n",
       "      <td>-0.591096</td>\n",
       "      <td>0.756235</td>\n",
       "      <td>-0.945225</td>\n",
       "      <td>0.340935</td>\n",
       "      <td>-0.165390</td>\n",
       "      <td>0.117380</td>\n",
       "      <td>-0.719226</td>\n",
       "      <td>-0.603797</td>\n",
       "      <td>0.242949</td>\n",
       "    </tr>\n",
       "    <tr>\n",
       "      <th>2</th>\n",
       "      <td>0.601489</td>\n",
       "      <td>0.936523</td>\n",
       "      <td>-0.373152</td>\n",
       "      <td>0.384645</td>\n",
       "      <td>0.752778</td>\n",
       "      <td>0.789213</td>\n",
       "      <td>-0.829912</td>\n",
       "      <td>-0.921890</td>\n",
       "      <td>-0.660339</td>\n",
       "      <td>0.756285</td>\n",
       "      <td>-15.000000</td>\n",
       "    </tr>\n",
       "    <tr>\n",
       "      <th>3</th>\n",
       "      <td>-0.803306</td>\n",
       "      <td>-0.157785</td>\n",
       "      <td>0.915779</td>\n",
       "      <td>0.066331</td>\n",
       "      <td>0.383754</td>\n",
       "      <td>-0.368969</td>\n",
       "      <td>0.373002</td>\n",
       "      <td>0.669251</td>\n",
       "      <td>-0.963423</td>\n",
       "      <td>0.500289</td>\n",
       "      <td>-15.000000</td>\n",
       "    </tr>\n",
       "    <tr>\n",
       "      <th>4</th>\n",
       "      <td>0.977722</td>\n",
       "      <td>0.496331</td>\n",
       "      <td>-0.439112</td>\n",
       "      <td>0.578559</td>\n",
       "      <td>-0.793548</td>\n",
       "      <td>-0.104213</td>\n",
       "      <td>0.817191</td>\n",
       "      <td>-0.412772</td>\n",
       "      <td>-0.424449</td>\n",
       "      <td>-0.739943</td>\n",
       "      <td>-15.000000</td>\n",
       "    </tr>\n",
       "  </tbody>\n",
       "</table>\n",
       "</div>"
      ],
      "text/plain": [
       "        x_0       x_1       x_2       x_3       x_4       x_5       x_6  \\\n",
       "0 -0.165956  0.440649 -0.999771 -0.395335 -0.706488 -0.815323 -0.627480   \n",
       "1 -0.161611  0.370439 -0.591096  0.756235 -0.945225  0.340935 -0.165390   \n",
       "2  0.601489  0.936523 -0.373152  0.384645  0.752778  0.789213 -0.829912   \n",
       "3 -0.803306 -0.157785  0.915779  0.066331  0.383754 -0.368969  0.373002   \n",
       "4  0.977722  0.496331 -0.439112  0.578559 -0.793548 -0.104213  0.817191   \n",
       "\n",
       "        x_7       x_8       x_9          Y  \n",
       "0 -0.308879 -0.206465  0.077633   0.933961  \n",
       "1  0.117380 -0.719226 -0.603797   0.242949  \n",
       "2 -0.921890 -0.660339  0.756285 -15.000000  \n",
       "3  0.669251 -0.963423  0.500289 -15.000000  \n",
       "4 -0.412772 -0.424449 -0.739943 -15.000000  "
      ]
     },
     "execution_count": 4,
     "metadata": {},
     "output_type": "execute_result"
    }
   ],
   "source": [
    "from tfdeepsurv.datasets import survival_df\n",
    "\n",
    "surv_train = survival_df(train_data, t_col=\"t\", e_col=\"e\", label_col=\"Y\")\n",
    "surv_test = survival_df(test_data, t_col=\"t\", e_col=\"e\", label_col=\"Y\")\n",
    "\n",
    "# columns 't' and 'e' are packed into an new column 'Y'\n",
    "surv_train.head()"
   ]
  },
  {
   "cell_type": "markdown",
   "metadata": {},
   "source": [
    "### Model initialization\n",
    "\n",
    "**NOTE:** You can freely change all hyper-parameters during model initialization or training as you want.\n",
    "\n",
    "All hyper-parameters is as follows:\n",
    "- `nn_config`: model configuration\n",
    "- `hidden_layers_nodes`: hidden layers configuration\n",
    "- `num_steps`: training steps\n",
    "\n",
    "Hyperparameters tuning can refer to README in directory `byopt`."
   ]
  },
  {
   "cell_type": "code",
   "execution_count": 5,
   "metadata": {
    "collapsed": true
   },
   "outputs": [],
   "source": [
    "from tfdeepsurv import dsnn\n",
    "\n",
    "input_nodes = 10\n",
    "hidden_layers_nodes = [6, 3, 1]\n",
    "\n",
    "# the arguments of dsnn can be obtained by Bayesian Hyperparameters Tuning\n",
    "nn_config = {\n",
    "    \"learning_rate\": 0.7,\n",
    "    \"learning_rate_decay\": 1.0,\n",
    "    \"activation\": 'relu', \n",
    "    \"L1_reg\": 3.4e-5, \n",
    "    \"L2_reg\": 8.8e-5, \n",
    "    \"optimizer\": 'sgd',\n",
    "    \"dropout_keep_prob\": 1.0,\n",
    "    \"seed\": 1\n",
    "}\n",
    "# ESSENTIAL STEP: Pass arguments\n",
    "model = dsnn(\n",
    "    input_nodes, \n",
    "    hidden_layers_nodes,\n",
    "    nn_config\n",
    ")\n",
    "# ESSENTIAL STEP: Build Computation Graph\n",
    "model.build_graph()"
   ]
  },
  {
   "cell_type": "markdown",
   "metadata": {},
   "source": [
    "### Model training\n",
    "\n",
    "You can save your trained model by passing `save_model=\"file_name.ckpt\"` or load your trained model by passing `load_model=\"file_name.ckpt\"`"
   ]
  },
  {
   "cell_type": "code",
   "execution_count": 6,
   "metadata": {},
   "outputs": [
    {
     "name": "stdout",
     "output_type": "stream",
     "text": [
      "Average loss at step 100: 7.07983\n",
      "Average loss at step 200: 7.07982\n",
      "Average loss at step 300: 7.07981\n",
      "Average loss at step 400: 7.07980\n",
      "Average loss at step 500: 7.07980\n",
      "Average loss at step 600: 7.07979\n",
      "Average loss at step 700: 7.07978\n",
      "Average loss at step 800: 7.07977\n",
      "Average loss at step 900: 7.07977\n",
      "Average loss at step 1000: 7.07704\n",
      "Average loss at step 1100: 6.87123\n",
      "Average loss at step 1200: 6.45434\n",
      "Average loss at step 1300: 6.37069\n",
      "Average loss at step 1400: 6.33944\n",
      "Average loss at step 1500: 6.32291\n",
      "Average loss at step 1600: 6.29438\n",
      "Average loss at step 1700: 6.29165\n",
      "Average loss at step 1800: 6.29007\n",
      "Average loss at step 1900: 6.28687\n"
     ]
    },
    {
     "data": {
      "image/png": "[encoded data removed]",
      "text/plain": [
       "<Figure size 432x288 with 1 Axes>"
      ]
     },
     "metadata": {
      "needs_background": "light"
     },
     "output_type": "display_data"
    },
    {
     "data": {
      "image/png": "[encoded data removed]",
      "text/plain": [
       "<Figure size 432x288 with 1 Axes>"
      ]
     },
     "metadata": {
      "needs_background": "light"
     },
     "output_type": "display_data"
    }
   ],
   "source": [
    "Y_col = [\"Y\"]\n",
    "X_cols = [c for c in surv_train.columns if c not in Y_col]\n",
    "\n",
    "# model saving and loading is also supported!\n",
    "# read comments of `train()` function if necessary.\n",
    "watch_list = model.train(\n",
    "    surv_train[X_cols], surv_train[Y_col],\n",
    "    num_steps=1900,\n",
    "    num_skip_steps=100,\n",
    "    plot=True\n",
    ")"
   ]
  },
  {
   "cell_type": "markdown",
   "metadata": {},
   "source": [
    "### Model evaluation"
   ]
  },
  {
   "cell_type": "code",
   "execution_count": 7,
   "metadata": {},
   "outputs": [
    {
     "name": "stdout",
     "output_type": "stream",
     "text": [
      "CI on training data: 0.8193206851448683\n",
      "CI on test data: 0.8175830825866967\n"
     ]
    }
   ],
   "source": [
    "print(\"CI on training data:\", model.evals(surv_train[X_cols], surv_train[Y_col]))\n",
    "print(\"CI on test data:\", model.evals(surv_test[X_cols], surv_test[Y_col]))"
   ]
  },
  {
   "cell_type": "markdown",
   "metadata": {},
   "source": [
    "### Model prediction\n",
    "\n",
    "Model prediction includes:\n",
    "- predicting hazard ratio or log hazard ratio\n",
    "- predicting survival function"
   ]
  },
  {
   "cell_type": "code",
   "execution_count": 8,
   "metadata": {},
   "outputs": [
    {
     "name": "stdout",
     "output_type": "stream",
     "text": [
      "[[4.629786 ]\n",
      " [4.8222055]\n",
      " [0.       ]\n",
      " [1.4019105]\n",
      " [0.       ]]\n",
      "[[102.49213 ]\n",
      " [124.2388  ]\n",
      " [  1.      ]\n",
      " [  4.062955]\n",
      " [  1.      ]]\n"
     ]
    }
   ],
   "source": [
    "# predict log hazard ratio\n",
    "print(model.predict(surv_test.loc[0:4, X_cols]))\n",
    "# predict hazard ratio\n",
    "print(model.predict(surv_test.loc[0:4, X_cols], output_margin=False))"
   ]
  },
  {
   "cell_type": "code",
   "execution_count": 9,
   "metadata": {},
   "outputs": [
    {
     "data": {
      "image/png": "[encoded data removed]",
      "text/plain": [
       "<Figure size 432x288 with 1 Axes>"
      ]
     },
     "metadata": {
      "needs_background": "light"
     },
     "output_type": "display_data"
    },
    {
     "data": {
      "text/html": [
       "<div>\n",
       "<style scoped>\n",
       "    .dataframe tbody tr th:only-of-type {\n",
       "        vertical-align: middle;\n",
       "    }\n",
       "\n",
       "    .dataframe tbody tr th {\n",
       "        vertical-align: top;\n",
       "    }\n",
       "\n",
       "    .dataframe thead th {\n",
       "        text-align: right;\n",
       "    }\n",
       "</style>\n",
       "<table border=\"1\" class=\"dataframe\">\n",
       "  <thead>\n",
       "    <tr style=\"text-align: right;\">\n",
       "      <th></th>\n",
       "      <th>0.00014043919509276748</th>\n",
       "      <th>0.00039331152220256627</th>\n",
       "      <th>0.00126435118727386</th>\n",
       "      <th>0.0027157075237482786</th>\n",
       "      <th>0.002904581604525447</th>\n",
       "      <th>0.0030980780720710754</th>\n",
       "      <th>0.003499445738270879</th>\n",
       "      <th>0.0036616716533899307</th>\n",
       "      <th>0.004621267784386873</th>\n",
       "      <th>0.004637269768863916</th>\n",
       "      <th>...</th>\n",
       "      <th>14.737560272216797</th>\n",
       "      <th>14.74014663696289</th>\n",
       "      <th>14.750370979309082</th>\n",
       "      <th>14.778524398803711</th>\n",
       "      <th>14.781179428100586</th>\n",
       "      <th>14.794774055480957</th>\n",
       "      <th>14.816924095153809</th>\n",
       "      <th>14.933478355407715</th>\n",
       "      <th>14.945713996887207</th>\n",
       "      <th>15.0</th>\n",
       "    </tr>\n",
       "  </thead>\n",
       "  <tbody>\n",
       "    <tr>\n",
       "      <th>0</th>\n",
       "      <td>0.999388</td>\n",
       "      <td>0.998775</td>\n",
       "      <td>0.998159</td>\n",
       "      <td>0.997543</td>\n",
       "      <td>0.996925</td>\n",
       "      <td>0.996304</td>\n",
       "      <td>0.995678</td>\n",
       "      <td>0.995050</td>\n",
       "      <td>0.994421</td>\n",
       "      <td>0.993786</td>\n",
       "      <td>...</td>\n",
       "      <td>1.230686e-16</td>\n",
       "      <td>1.117655e-16</td>\n",
       "      <td>1.014383e-16</td>\n",
       "      <td>9.202992e-17</td>\n",
       "      <td>8.347148e-17</td>\n",
       "      <td>7.569418e-17</td>\n",
       "      <td>6.862914e-17</td>\n",
       "      <td>6.220573e-17</td>\n",
       "      <td>5.636893e-17</td>\n",
       "      <td>5.636893e-17</td>\n",
       "    </tr>\n",
       "    <tr>\n",
       "      <th>1</th>\n",
       "      <td>0.999258</td>\n",
       "      <td>0.998515</td>\n",
       "      <td>0.997769</td>\n",
       "      <td>0.997023</td>\n",
       "      <td>0.996274</td>\n",
       "      <td>0.995521</td>\n",
       "      <td>0.994763</td>\n",
       "      <td>0.994003</td>\n",
       "      <td>0.993241</td>\n",
       "      <td>0.992472</td>\n",
       "      <td>...</td>\n",
       "      <td>5.180973e-20</td>\n",
       "      <td>4.609930e-20</td>\n",
       "      <td>4.098780e-20</td>\n",
       "      <td>3.642605e-20</td>\n",
       "      <td>3.236135e-20</td>\n",
       "      <td>2.874343e-20</td>\n",
       "      <td>2.552441e-20</td>\n",
       "      <td>2.265803e-20</td>\n",
       "      <td>2.010723e-20</td>\n",
       "      <td>2.010723e-20</td>\n",
       "    </tr>\n",
       "    <tr>\n",
       "      <th>2</th>\n",
       "      <td>0.999994</td>\n",
       "      <td>0.999988</td>\n",
       "      <td>0.999982</td>\n",
       "      <td>0.999976</td>\n",
       "      <td>0.999970</td>\n",
       "      <td>0.999964</td>\n",
       "      <td>0.999958</td>\n",
       "      <td>0.999952</td>\n",
       "      <td>0.999945</td>\n",
       "      <td>0.999939</td>\n",
       "      <td>...</td>\n",
       "      <td>6.994715e-01</td>\n",
       "      <td>6.988143e-01</td>\n",
       "      <td>6.981536e-01</td>\n",
       "      <td>6.974908e-01</td>\n",
       "      <td>6.968269e-01</td>\n",
       "      <td>6.961623e-01</td>\n",
       "      <td>6.954970e-01</td>\n",
       "      <td>6.948305e-01</td>\n",
       "      <td>6.941629e-01</td>\n",
       "      <td>6.941629e-01</td>\n",
       "    </tr>\n",
       "    <tr>\n",
       "      <th>3</th>\n",
       "      <td>0.999976</td>\n",
       "      <td>0.999951</td>\n",
       "      <td>0.999927</td>\n",
       "      <td>0.999902</td>\n",
       "      <td>0.999878</td>\n",
       "      <td>0.999853</td>\n",
       "      <td>0.999828</td>\n",
       "      <td>0.999803</td>\n",
       "      <td>0.999778</td>\n",
       "      <td>0.999753</td>\n",
       "      <td>...</td>\n",
       "      <td>2.340494e-01</td>\n",
       "      <td>2.331573e-01</td>\n",
       "      <td>2.322629e-01</td>\n",
       "      <td>2.313684e-01</td>\n",
       "      <td>2.304749e-01</td>\n",
       "      <td>2.295830e-01</td>\n",
       "      <td>2.286930e-01</td>\n",
       "      <td>2.278038e-01</td>\n",
       "      <td>2.269158e-01</td>\n",
       "      <td>2.269158e-01</td>\n",
       "    </tr>\n",
       "    <tr>\n",
       "      <th>4</th>\n",
       "      <td>0.999994</td>\n",
       "      <td>0.999988</td>\n",
       "      <td>0.999982</td>\n",
       "      <td>0.999976</td>\n",
       "      <td>0.999970</td>\n",
       "      <td>0.999964</td>\n",
       "      <td>0.999958</td>\n",
       "      <td>0.999952</td>\n",
       "      <td>0.999945</td>\n",
       "      <td>0.999939</td>\n",
       "      <td>...</td>\n",
       "      <td>6.994715e-01</td>\n",
       "      <td>6.988143e-01</td>\n",
       "      <td>6.981536e-01</td>\n",
       "      <td>6.974908e-01</td>\n",
       "      <td>6.968269e-01</td>\n",
       "      <td>6.961623e-01</td>\n",
       "      <td>6.954970e-01</td>\n",
       "      <td>6.948305e-01</td>\n",
       "      <td>6.941629e-01</td>\n",
       "      <td>6.941629e-01</td>\n",
       "    </tr>\n",
       "  </tbody>\n",
       "</table>\n",
       "<p>5 rows × 1472 columns</p>\n",
       "</div>"
      ],
      "text/plain": [
       "   0.000140   0.000393   0.001264   0.002716   0.002905   0.003098   \\\n",
       "0   0.999388   0.998775   0.998159   0.997543   0.996925   0.996304   \n",
       "1   0.999258   0.998515   0.997769   0.997023   0.996274   0.995521   \n",
       "2   0.999994   0.999988   0.999982   0.999976   0.999970   0.999964   \n",
       "3   0.999976   0.999951   0.999927   0.999902   0.999878   0.999853   \n",
       "4   0.999994   0.999988   0.999982   0.999976   0.999970   0.999964   \n",
       "\n",
       "   0.003499   0.003662   0.004621   0.004637   ...     14.737560  \\\n",
       "0   0.995678   0.995050   0.994421   0.993786  ...  1.230686e-16   \n",
       "1   0.994763   0.994003   0.993241   0.992472  ...  5.180973e-20   \n",
       "2   0.999958   0.999952   0.999945   0.999939  ...  6.994715e-01   \n",
       "3   0.999828   0.999803   0.999778   0.999753  ...  2.340494e-01   \n",
       "4   0.999958   0.999952   0.999945   0.999939  ...  6.994715e-01   \n",
       "\n",
       "      14.740147     14.750371     14.778524     14.781179     14.794774  \\\n",
       "0  1.117655e-16  1.014383e-16  9.202992e-17  8.347148e-17  7.569418e-17   \n",
       "1  4.609930e-20  4.098780e-20  3.642605e-20  3.236135e-20  2.874343e-20   \n",
       "2  6.988143e-01  6.981536e-01  6.974908e-01  6.968269e-01  6.961623e-01   \n",
       "3  2.331573e-01  2.322629e-01  2.313684e-01  2.304749e-01  2.295830e-01   \n",
       "4  6.988143e-01  6.981536e-01  6.974908e-01  6.968269e-01  6.961623e-01   \n",
       "\n",
       "      14.816924     14.933478     14.945714     15.000000  \n",
       "0  6.862914e-17  6.220573e-17  5.636893e-17  5.636893e-17  \n",
       "1  2.552441e-20  2.265803e-20  2.010723e-20  2.010723e-20  \n",
       "2  6.954970e-01  6.948305e-01  6.941629e-01  6.941629e-01  \n",
       "3  2.286930e-01  2.278038e-01  2.269158e-01  2.269158e-01  \n",
       "4  6.954970e-01  6.948305e-01  6.941629e-01  6.941629e-01  \n",
       "\n",
       "[5 rows x 1472 columns]"
      ]
     },
     "execution_count": 9,
     "metadata": {},
     "output_type": "execute_result"
    }
   ],
   "source": [
    "# predict survival function\n",
    "model.predict_survival_function(surv_test.loc[0:4, X_cols], plot=True)"
   ]
  },
  {
   "cell_type": "markdown",
   "metadata": {},
   "source": [
    "### tf.session close\n",
    "\n",
    "To release resources, we use `model.close_session()` to close session in tensorflow!"
   ]
  },
  {
   "cell_type": "code",
   "execution_count": 10,
   "metadata": {},
   "outputs": [
    {
     "name": "stdout",
     "output_type": "stream",
     "text": [
      "Current session closed.\n"
     ]
    }
   ],
   "source": [
    "model.close_session()"
   ]
  }
 ],
 "metadata": {
  "kernelspec": {
   "display_name": "Python 3",
   "language": "python",
   "name": "python3"
  },
  "language_info": {
   "codemirror_mode": {
    "name": "ipython",
    "version": 3
   },
   "file_extension": ".py",
   "mimetype": "text/x-python",
   "name": "python",
   "nbconvert_exporter": "python",
   "pygments_lexer": "ipython3",
   "version": "3.6.2"
  },
  "toc": {
   "base_numbering": 1,
   "nav_menu": {},
   "number_sections": true,
   "sideBar": true,
   "skip_h1_title": false,
   "title_cell": "Table of Contents",
   "title_sidebar": "Contents",
   "toc_cell": false,
   "toc_position": {},
   "toc_section_display": true,
   "toc_window_display": false
  }
 },
 "nbformat": 4,
 "nbformat_minor": 2
}
